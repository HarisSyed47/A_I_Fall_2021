{
 "cells": [
  {
   "cell_type": "code",
   "execution_count": null,
   "id": "eee678e0",
   "metadata": {},
   "outputs": [],
   "source": [
    "import pandas as pd\n",
    "import numpy as np\n",
    "import matplotlib.pyplot as plt\n",
    "import seaborn as sns\n"
   ]
  },
  {
   "cell_type": "code",
   "execution_count": null,
   "id": "ddbf3731",
   "metadata": {},
   "outputs": [],
   "source": [
    "df_train = pd.read_csv('train.csv')\n",
    "df_train.head()"
   ]
  },
  {
   "cell_type": "code",
   "execution_count": null,
   "id": "7a21c520",
   "metadata": {},
   "outputs": [],
   "source": [
    "df_test = pd.read_csv('test.csv')\n",
    "df_test.head()"
   ]
  },
  {
   "cell_type": "code",
   "execution_count": null,
   "id": "0051efeb",
   "metadata": {},
   "outputs": [],
   "source": [
    "df_testing = pd.read_csv('test.csv')\n",
    "#df_testing.head()"
   ]
  },
  {
   "cell_type": "code",
   "execution_count": null,
   "id": "e883aaca",
   "metadata": {},
   "outputs": [],
   "source": [
    "print(df_train.isnull().sum())\n",
    "print(df_test.isnull().sum())"
   ]
  },
  {
   "cell_type": "code",
   "execution_count": null,
   "id": "59730a2c",
   "metadata": {},
   "outputs": [],
   "source": [
    "df_train.describe()"
   ]
  },
  {
   "cell_type": "code",
   "execution_count": null,
   "id": "d0bf9fed",
   "metadata": {},
   "outputs": [],
   "source": [
    "df_train.drop(['id'],axis=1,inplace=True)\n",
    "df_test.drop(['id'],axis=1,inplace=True)"
   ]
  },
  {
   "cell_type": "code",
   "execution_count": null,
   "id": "b9f2bea8",
   "metadata": {},
   "outputs": [],
   "source": [
    "df_train.hist(figsize=(15, 15))"
   ]
  },
  {
   "cell_type": "code",
   "execution_count": null,
   "id": "902c1ce9",
   "metadata": {},
   "outputs": [],
   "source": [
    "df_test.hist(figsize=(15, 15))"
   ]
  },
  {
   "cell_type": "code",
   "execution_count": null,
   "id": "7f43c1ac",
   "metadata": {},
   "outputs": [],
   "source": [
    "print(df_train.info())\n",
    "print(df_test.info())"
   ]
  },
  {
   "cell_type": "code",
   "execution_count": null,
   "id": "41532e8e",
   "metadata": {},
   "outputs": [],
   "source": [
    "df_train.skew()"
   ]
  },
  {
   "cell_type": "code",
   "execution_count": null,
   "id": "de3bdc49",
   "metadata": {},
   "outputs": [],
   "source": [
    "df_test.skew()"
   ]
  },
  {
   "cell_type": "code",
   "execution_count": null,
   "id": "e830807d",
   "metadata": {},
   "outputs": [],
   "source": [
    "df_train.corr()"
   ]
  },
  {
   "cell_type": "code",
   "execution_count": null,
   "id": "d262cc51",
   "metadata": {},
   "outputs": [],
   "source": [
    "corr = df_train.corr()\n",
    "plt.subplots(figsize=(15,12))\n",
    "sns.heatmap(corr, vmax=0.9, cmap=\"inferno\", square=True)"
   ]
  },
  {
   "cell_type": "code",
   "execution_count": null,
   "id": "d86936df",
   "metadata": {},
   "outputs": [],
   "source": [
    "corr = df_test.corr()\n",
    "plt.subplots(figsize=(15,12))\n",
    "sns.heatmap(corr, vmax=0.9, cmap=\"inferno\", square=True)"
   ]
  },
  {
   "cell_type": "code",
   "execution_count": null,
   "id": "9f9fbaf2",
   "metadata": {},
   "outputs": [],
   "source": [
    "X=df_train.drop(['target'],axis=1)\n",
    "y=df_train.target"
   ]
  },
  {
   "cell_type": "code",
   "execution_count": null,
   "id": "b80a1c2f",
   "metadata": {},
   "outputs": [],
   "source": [
    "from sklearn.model_selection import train_test_split\n",
    "X_train,X_test,y_train,y_test=train_test_split(X,y,test_size=0.18, random_state=2)"
   ]
  },
  {
   "cell_type": "code",
   "execution_count": null,
   "id": "cb57c26f",
   "metadata": {},
   "outputs": [],
   "source": [
    "import lightgbm as lgb\n",
    "LGB = lgb.LGBMRegressor(random_state=30, n_estimators=540, min_data_per_group=5, boosting_type='gbdt',\n",
    " num_leaves=256, max_dept=-2, learning_rate=0.005, subsample_for_bin=200000,\n",
    " lambda_l1= 1.074622455507616e-05, lambda_l2= 2.0521330798729704e-06, n_jobs=-1, cat_smooth=1.0, \n",
    " importance_type='split', metric='rmse', min_child_samples=20)\n",
    "\n",
    "LGB.fit(X_train, y_train)"
   ]
  },
  {
   "cell_type": "code",
   "execution_count": null,
   "id": "03206614",
   "metadata": {},
   "outputs": [],
   "source": [
    "pred_LGB = LGB.predict(X_test)"
   ]
  },
  {
   "cell_type": "code",
   "execution_count": null,
   "id": "2f0573be",
   "metadata": {},
   "outputs": [],
   "source": [
    "from sklearn.metrics import mean_squared_error\n",
    "rmse_LGB = np.sqrt(mean_squared_error(y_test, pred_LGB))\n",
    "rmse_LGB"
   ]
  },
  {
   "cell_type": "code",
   "execution_count": null,
   "id": "38291641",
   "metadata": {},
   "outputs": [],
   "source": [
    "pred_LGB = LGB.predict(df_test)\n",
    "pred_LGB"
   ]
  },
  {
   "cell_type": "code",
   "execution_count": null,
   "id": "451f1ca2",
   "metadata": {},
   "outputs": [],
   "source": [
    "output = pd.DataFrame({'id': df_testing.id, 'target': pred_LGB})\n",
    "output.to_csv('Kaggle_Playground_Submission_LGB.csv', index=False)"
   ]
  }
 ],
 "metadata": {
  "kernelspec": {
   "display_name": "Python 3",
   "language": "python",
   "name": "python3"
  },
  "language_info": {
   "codemirror_mode": {
    "name": "ipython",
    "version": 3
   },
   "file_extension": ".py",
   "mimetype": "text/x-python",
   "name": "python",
   "nbconvert_exporter": "python",
   "pygments_lexer": "ipython3",
   "version": "3.6.13"
  }
 },
 "nbformat": 4,
 "nbformat_minor": 5
}
